{
 "cells": [
  {
   "cell_type": "code",
   "execution_count": 17,
   "id": "a07fc7f8",
   "metadata": {},
   "outputs": [
    {
     "name": "stdout",
     "output_type": "stream",
     "text": [
      " Saved cleaned CSV with selected columns to 'donnees_nettoyee.csv'\n"
     ]
    }
   ],
   "source": [
    "import pandas as pd\n",
    "\n",
    "# Load the CSV\n",
    "df = pd.read_csv('donnees_vol_multiple.csv')  # use your actual filename if different\n",
    "df['is_attack'] = 1\n",
    "# List of columns to keep\n",
    "columns_to_keep = [\n",
    "    'mission_id', 'time', 'real_x', 'real_y', 'real_z','target_x', 'target_y', 'target_z',\n",
    "    'vx', 'vy', 'vz', 'ax', 'ay', 'az',\n",
    "    'roll', 'pitch', 'yaw',\n",
    "    'wind_x', 'wind_y', 'wind_z',\n",
    "    'erreur_m', 'velocity',\n",
    "    'rain', 'fog','snow' ,'is_attack'      \n",
    "\n",
    "]\n",
    "\n",
    "# Filter the DataFrame\n",
    "filtered_df = df[columns_to_keep]\n",
    "\n",
    "# Save the result\n",
    "filtered_df.to_csv('donnees_nettoyee_bon.csv', index=False)\n",
    "\n",
    "print(\" Saved cleaned CSV with selected columns to 'donnees_nettoyee.csv'\")"
   ]
  },
  {
   "cell_type": "code",
   "execution_count": 18,
   "id": "7302959c",
   "metadata": {},
   "outputs": [
    {
     "name": "stdout",
     "output_type": "stream",
     "text": [
      "✅ Saved cleaned flight data with new mission IDs to 'cleaned_flight_data.csv'\n"
     ]
    }
   ],
   "source": [
    "import pandas as pd\n",
    "\n",
    "# Load the CSV file\n",
    "df = pd.read_csv('donnees_nettoyee_bon.csv')\n",
    "\n",
    "# Final list of valid flight rows\n",
    "output_rows = []\n",
    "\n",
    "# Track current block of rows\n",
    "current_block = []\n",
    "current_id = None\n",
    "\n",
    "# Counter for assigning new clean mission_ids\n",
    "new_flight_id = 1\n",
    "\n",
    "# Go through rows one by one\n",
    "for _, row in df.iterrows():\n",
    "    row_id = row['mission_id']\n",
    "\n",
    "    if current_id is None:\n",
    "        current_id = row_id\n",
    "        current_block.append(row)\n",
    "    elif row_id == current_id:\n",
    "        current_block.append(row)\n",
    "    else:\n",
    "        # ID changed, time to process the current block\n",
    "        if len(current_block) == 21:\n",
    "            for r in current_block:\n",
    "                r['mission_id'] = new_flight_id\n",
    "                output_rows.append(r)\n",
    "            new_flight_id += 1\n",
    "\n",
    "        # Start a new block\n",
    "        current_block = [row]\n",
    "        current_id = row_id\n",
    "\n",
    "# Handle the last block\n",
    "if len(current_block) == 21:\n",
    "    for r in current_block:\n",
    "        r['mission_id'] = new_flight_id\n",
    "        output_rows.append(r)\n",
    "\n",
    "# Convert to DataFrame\n",
    "output_df = pd.DataFrame(output_rows)\n",
    "\n",
    "# Save to CSV\n",
    "output_df.to_csv('donnees_vol_multiple_filtered_bon.csv', index=False)\n",
    "\n",
    "print(\"✅ Saved cleaned flight data with new mission IDs to 'cleaned_flight_data.csv'\")"
   ]
  },
  {
   "cell_type": "code",
   "execution_count": 19,
   "id": "51a9e2f7",
   "metadata": {},
   "outputs": [
    {
     "name": "stdout",
     "output_type": "stream",
     "text": [
      "\n",
      "✅ Correction appliquée à 224 points avec erreur > 2.5m\n",
      "✅ Shape des données corrigées: (224, 3)\n",
      "\n",
      "📊 Moyenne finale des erreurs : 1.78 mètres\n",
      "📦 Nombre de vols restants : 71\n",
      "💾 Fichier 'donnees_vols_valides_B_1.csv' enregistré avec succès.\n"
     ]
    },
    {
     "name": "stderr",
     "output_type": "stream",
     "text": [
      "C:\\Users\\Amatek\\AppData\\Local\\Temp\\ipykernel_18392\\3327738729.py:33: SettingWithCopyWarning: \n",
      "A value is trying to be set on a copy of a slice from a DataFrame\n",
      "\n",
      "See the caveats in the documentation: https://pandas.pydata.org/pandas-docs/stable/user_guide/indexing.html#returning-a-view-versus-a-copy\n",
      "  df_final.loc[condition, ['real_x', 'real_y', 'real_z']] = df_final.loc[condition, ['target_x', 'target_y', 'target_z']].values\n"
     ]
    }
   ],
   "source": [
    "import pandas as pd\n",
    "\n",
    "# Charger les données\n",
    "df = pd.read_csv(\"donnees_vol_multiple_filtered_bon.csv\")\n",
    "\n",
    "# Liste des vols valides\n",
    "vols_valides = []\n",
    "\n",
    "# Vérification des conditions sur chaque vol\n",
    "for mission_id, groupe in df.groupby(\"mission_id\"):\n",
    "    groupe_sorted = groupe.sort_values(\"time\")\n",
    "    premiers_wp = groupe_sorted.head(7)\n",
    "\n",
    "    # Vérifier les deux conditions\n",
    "    condition_erreur_7points = (premiers_wp[\"erreur_m\"] > 2.5).any()\n",
    "    moyenne_vol = groupe_sorted[\"erreur_m\"].mean()\n",
    "    condition_moyenne = moyenne_vol >= 13\n",
    "\n",
    "    # Appliquer le OU : on supprime le vol si l'une des deux conditions est vraie\n",
    "    if condition_erreur_7points or condition_moyenne:\n",
    "        continue\n",
    "    \n",
    "    vols_valides.append(mission_id)\n",
    "\n",
    "# Filtrer le DataFrame avec les vols valides\n",
    "df_final = df[df[\"mission_id\"].isin(vols_valides)]\n",
    "\n",
    "# Vérifier que les colonnes nécessaires sont présentes\n",
    "required_cols = ['erreur_m', 'real_x', 'real_y', 'real_z', 'target_x', 'target_y', 'target_z']\n",
    "if all(col in df_final.columns for col in required_cols):\n",
    "    condition = df_final['erreur_m'] > 2.5\n",
    "    # Appliquer la correction\n",
    "    df_final.loc[condition, ['real_x', 'real_y', 'real_z']] = df_final.loc[condition, ['target_x', 'target_y', 'target_z']].values\n",
    "    print(f\"\\n✅ Correction appliquée à {condition.sum()} points avec erreur > 2.5m\")\n",
    "    print(f\"✅ Shape des données corrigées: {df_final.loc[condition, ['real_x', 'real_y', 'real_z']].shape}\")\n",
    "else:\n",
    "    missing_cols = [col for col in required_cols if col not in df_final.columns]\n",
    "    print(f\"\\n⚠️ Impossible d'appliquer la correction - Colonnes manquantes: {missing_cols}\")\n",
    "\n",
    "# Supprimer les colonnes target_x, target_y, target_z si elles existent\n",
    "cols_a_supprimer = ['target_x', 'target_y', 'target_z']\n",
    "df_final = df_final.drop(columns=[col for col in cols_a_supprimer if col in df_final.columns])\n",
    "\n",
    "# Sauvegarder dans un nouveau fichier CSV\n",
    "df_final.to_csv(\"donnees_vols_valides_B.csv\", index=False)\n",
    "\n",
    "# Affichage des statistiques finales\n",
    "moyenne_finale = df_final[\"erreur_m\"].mean()\n",
    "print(f\"\\n📊 Moyenne finale des erreurs : {moyenne_finale:.2f} mètres\")\n",
    "print(f\"📦 Nombre de vols restants : {len(vols_valides)}\")\n",
    "print(\"💾 Fichier 'donnees_vols_valides_B_1.csv' enregistré avec succès.\")\n"
   ]
  },
  {
   "cell_type": "code",
   "execution_count": 20,
   "id": "cdf3da39",
   "metadata": {},
   "outputs": [
    {
     "name": "stdout",
     "output_type": "stream",
     "text": [
      "False\n",
      "Colonnes contenant des NaN :\n",
      "[]\n",
      "\n",
      "Nombre de NaN par colonne :\n",
      "Series([], dtype: float64)\n"
     ]
    }
   ],
   "source": [
    "print(df.isna().any().any())\n",
    "colonnes_avec_nan = df.columns[df.isna().any()].tolist()\n",
    "\n",
    "# Afficher les colonnes concernées\n",
    "print(\"Colonnes contenant des NaN :\")\n",
    "print(colonnes_avec_nan)\n",
    "\n",
    "# Afficher le nombre de NaN par colonne\n",
    "print(\"\\nNombre de NaN par colonne :\")\n",
    "print(df[colonnes_avec_nan].isna().sum())"
   ]
  },
  {
   "cell_type": "code",
   "execution_count": null,
   "id": "50a990d4",
   "metadata": {},
   "outputs": [],
   "source": []
  },
  {
   "cell_type": "code",
   "execution_count": null,
   "id": "fe6b17e6",
   "metadata": {},
   "outputs": [],
   "source": []
  }
 ],
 "metadata": {
  "kernelspec": {
   "display_name": "Python 3",
   "language": "python",
   "name": "python3"
  },
  "language_info": {
   "codemirror_mode": {
    "name": "ipython",
    "version": 3
   },
   "file_extension": ".py",
   "mimetype": "text/x-python",
   "name": "python",
   "nbconvert_exporter": "python",
   "pygments_lexer": "ipython3",
   "version": "3.13.3"
  }
 },
 "nbformat": 4,
 "nbformat_minor": 5
}
