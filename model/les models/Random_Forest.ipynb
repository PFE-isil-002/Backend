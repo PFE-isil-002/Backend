{
 "cells": [
  {
   "cell_type": "code",
   "execution_count": 4,
   "id": "9ae3bae2",
   "metadata": {},
   "outputs": [
    {
     "name": "stdout",
     "output_type": "stream",
     "text": [
      "Dimensions initiales: (713, 443)\n",
      "Dimensions après nettoyage: (713, 443)\n",
      "\n",
      "==================================================\n",
      "RANDOM FOREST - Meilleurs paramètres: {'max_depth': 10, 'min_samples_split': 2, 'n_estimators': 100}\n",
      "F1-score (validation): 0.9576\n",
      "\n",
      "Performance sur le test set:\n",
      "              precision    recall  f1-score   support\n",
      "\n",
      "         0.0       0.97      0.94      0.95       109\n",
      "         1.0       0.94      0.97      0.95       105\n",
      "\n",
      "    accuracy                           0.95       214\n",
      "   macro avg       0.95      0.95      0.95       214\n",
      "weighted avg       0.95      0.95      0.95       214\n",
      "\n"
     ]
    },
    {
     "data": {
      "image/png": "[encoded data removed]",
      "text/plain": [
       "<Figure size 640x480 with 2 Axes>"
      ]
     },
     "metadata": {},
     "output_type": "display_data"
    }
   ],
   "source": [
    "\n",
    "import pandas as pd\n",
    "import numpy as np\n",
    "from sklearn.model_selection import train_test_split, GridSearchCV\n",
    "from sklearn.preprocessing import StandardScaler\n",
    "from sklearn.impute import SimpleImputer\n",
    "from sklearn.linear_model import LogisticRegression\n",
    "from sklearn.ensemble import RandomForestClassifier\n",
    "from sklearn.metrics import classification_report, accuracy_score, confusion_matrix, ConfusionMatrixDisplay, roc_auc_score\n",
    "import matplotlib.pyplot as plt\n",
    "import joblib\n",
    "from sklearn.pipeline import Pipeline\n",
    "\n",
    "# 1. Chargement et inspection des données\n",
    "df = pd.read_csv('missions_fusionnees.csv')\n",
    " \n",
    "print(\"Dimensions initiales:\", df.shape)\n",
    "def clean_data(df):\n",
    "   \n",
    "    # Conversion des booléens\n",
    "    bool_cols = df.select_dtypes(include=['bool']).columns\n",
    "    for col in bool_cols:\n",
    "        df[col] = df[col].astype(int)\n",
    "    \n",
    "    # Conversion des chaînes de caractères\n",
    "    for col in df.select_dtypes(include=['object']).columns:\n",
    "        try:\n",
    "            df[col] = pd.to_numeric(df[col])\n",
    "        except:\n",
    "            df[col] = df[col].replace({'True':1, 'False':0, 'true':1, 'false':0})\n",
    "            try:\n",
    "                df[col] = pd.to_numeric(df[col])\n",
    "            except:\n",
    "                df.drop(col, axis=1, inplace=True)\n",
    "    return df\n",
    "\n",
    "df = clean_data(df)\n",
    "print(\"Dimensions après nettoyage:\", df.shape)\n",
    "\n",
    "# 3. Feature Engineering\n",
    "def create_features(df):\n",
    "    # Exemples de nouvelles features\n",
    "    for i in range(20):\n",
    "        if f'ax_{i}' in df.columns and f'ay_{i}' in df.columns and f'az_{i}' in df.columns:\n",
    "            df[f'accel_norm_{i}'] = np.sqrt(df[f'ax_{i}']**2 + df[f'ay_{i}']**2 + df[f'az_{i}']**2)\n",
    "        if f'velocity_{i}' in df.columns:\n",
    "            df[f'velocity_diff_{i}'] = df[f'velocity_{i}'] - df['velocity_0']\n",
    "    \n",
    "    # Moyennes mobiles\n",
    "    for var in ['ax', 'ay', 'az']:\n",
    "        for i in range(10,20):\n",
    "            cols = [f'{var}_{j}' for j in range(i-5,i) if f'{var}_{j}' in df.columns]\n",
    "            if cols:\n",
    "                df[f'{var}_mean_last5_{i}'] = df[cols].mean(axis=1)\n",
    "    return df\n",
    "\n",
    "df = create_features(df)\n",
    "\n",
    "# 4. Préparation des données\n",
    "time_cols = [col for col in df.columns if col.startswith('time_')]\n",
    "features = df.drop(['mission_id', 'is_attack','erreur_m'] + time_cols, axis=1, errors='ignore')\n",
    "target = df['is_attack']\n",
    "\n",
    "# 5. Pipeline de prétraitement\n",
    "preprocessor = Pipeline([\n",
    "    ('imputer', SimpleImputer(strategy='median')),\n",
    "    ('scaler', StandardScaler())\n",
    "])\n",
    "\n",
    "X = preprocessor.fit_transform(features)\n",
    "X_train, X_test, y_train, y_test = train_test_split(X, target, test_size=0.3, random_state=42, stratify=target)\n",
    "\n",
    "# Configuration de l'optimisation\n",
    "rf_params = {\n",
    "    'n_estimators': [100, 200],       # Nombre d'arbres\n",
    "    'max_depth': [None, 10, 20],      # Profondeur max\n",
    "    'min_samples_split': [2, 5]       # Split minimum\n",
    "}\n",
    "\n",
    "# Initialisation et optimisation\n",
    "rf = RandomForestClassifier(class_weight='balanced')\n",
    "rf_grid = GridSearchCV(\n",
    "    estimator=rf,\n",
    "    param_grid=rf_params,\n",
    "    cv=5,\n",
    "    scoring='f1',\n",
    "    n_jobs=-1\n",
    ")\n",
    "rf_grid.fit(X_train, y_train)\n",
    "\n",
    "# Meilleur modèle\n",
    "best_rf = rf_grid.best_estimator_\n",
    "print(\"\\n\" + \"=\"*50)\n",
    "print(f\"RANDOM FOREST - Meilleurs paramètres: {rf_grid.best_params_}\")\n",
    "print(f\"F1-score (validation): {rf_grid.best_score_:.4f}\")\n",
    "\n",
    "# Évaluation\n",
    "y_pred_rf = best_rf.predict(X_test)\n",
    "y_prob_rf = best_rf.predict_proba(X_test)[:,1]\n",
    "\n",
    "# Métriques\n",
    "print(\"\\nPerformance sur le test set:\")\n",
    "print(classification_report(y_test, y_pred_rf))\n",
    "# Matrice de confusion\n",
    "cm_rf = confusion_matrix(y_test, y_pred_rf)\n",
    "disp_rf = ConfusionMatrixDisplay(cm_rf, display_labels=['Normal', 'Attack'])\n",
    "disp_rf.plot()\n",
    "plt.title(\"Matrice de Confusion - Random Forest\")\n",
    "plt.show()\n"
   ]
  },
  {
   "cell_type": "code",
   "execution_count": 5,
   "id": "1efd3c0d",
   "metadata": {},
   "outputs": [
    {
     "name": "stdout",
     "output_type": "stream",
     "text": [
      "✅ Modèle Random Forest sauvegardé dans 'random_forest_model.pkl'\n",
      "✅ Préprocesseur sauvegardé dans 'preprocessor.pkl'\n"
     ]
    }
   ],
   "source": [
    "import joblib\n",
    "\n",
    "# Sauvegarde du modèle Random Forest optimisé\n",
    "joblib.dump(best_rf, 'random_forest_model.pkl')\n",
    "print(\"✅ Modèle Random Forest sauvegardé dans 'random_forest_model.pkl'\")\n",
    "\n",
    "# Sauvegarde du préprocesseur (imputer + scaler)\n",
    "joblib.dump(preprocessor, 'preprocessor_RF.pkl')\n",
    "print(\"✅ Préprocesseur sauvegardé dans 'preprocessor.pkl'\")\n"
   ]
  },
  {
   "cell_type": "code",
   "execution_count": 6,
   "id": "71c5182d",
   "metadata": {},
   "outputs": [
    {
     "data": {
      "text/plain": [
       "\"\\n# Chargement du modèle et du préprocesseur\\nmodel = joblib.load('random_forest_model.pkl')\\npreprocessor = joblib.load('preprocessor.pkl')\\n\\n# Chargement et préparation des nouvelles données (exemple)\\ndf_new = pd.read_csv('missions_fusionnees.csv')\\ndf_new = clean_data(df_new)\\ndf_new = create_features(df_new)\\n\\ntime_cols = [col for col in df_new.columns if col.startswith('time_')]\\nfeatures_new = df_new.drop(['mission_id', 'is_attack', 'erreur_m'] + time_cols, axis=1, errors='ignore')\\n\\n# Prétraitement\\nX_new = preprocessor.transform(features_new)\\n\\n# Prédiction\\ny_pred = model.predict(X_new)\\n\""
      ]
     },
     "execution_count": 6,
     "metadata": {},
     "output_type": "execute_result"
    }
   ],
   "source": [
    "\"\"\"\n",
    "# Chargement du modèle et du préprocesseur\n",
    "model = joblib.load('random_forest_model.pkl')\n",
    "preprocessor = joblib.load('preprocessor.pkl')\n",
    "\n",
    "# Chargement et préparation des nouvelles données (exemple)\n",
    "df_new = pd.read_csv('missions_fusionnees.csv')\n",
    "df_new = clean_data(df_new)\n",
    "df_new = create_features(df_new)\n",
    "\n",
    "time_cols = [col for col in df_new.columns if col.startswith('time_')]\n",
    "features_new = df_new.drop(['mission_id', 'is_attack', 'erreur_m'] + time_cols, axis=1, errors='ignore')\n",
    "\n",
    "# Prétraitement\n",
    "X_new = preprocessor.transform(features_new)\n",
    "\n",
    "# Prédiction\n",
    "y_pred = model.predict(X_new)\n",
    "\"\"\""
   ]
  },
  {
   "cell_type": "code",
   "execution_count": null,
   "id": "82f22734",
   "metadata": {},
   "outputs": [],
   "source": []
  },
  {
   "cell_type": "code",
   "execution_count": null,
   "id": "341f09d1",
   "metadata": {},
   "outputs": [],
   "source": []
  }
 ],
 "metadata": {
  "kernelspec": {
   "display_name": "Python 3",
   "language": "python",
   "name": "python3"
  },
  "language_info": {
   "codemirror_mode": {
    "name": "ipython",
    "version": 3
   },
   "file_extension": ".py",
   "mimetype": "text/x-python",
   "name": "python",
   "nbconvert_exporter": "python",
   "pygments_lexer": "ipython3",
   "version": "3.13.3"
  }
 },
 "nbformat": 4,
 "nbformat_minor": 5
}
